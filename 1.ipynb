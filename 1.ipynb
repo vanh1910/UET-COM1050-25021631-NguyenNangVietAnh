{
 "cells": [
  {
   "cell_type": "code",
   "execution_count": null,
   "id": "5c37b65a",
   "metadata": {},
   "outputs": [],
   "source": [
    "a = 7 \n",
    "b = 5\n",
    "c = a - b"
   ]
  },
  {
   "cell_type": "markdown",
   "id": "cc67490a",
   "metadata": {
    "vscode": {
     "languageId": "ini"
    }
   },
   "source": [
    "### Giải thích các biến và phép toán trong ô trên\n",
    "\n",
    "; - Biến `a` được gán giá trị 7.\n",
    "; - Biến `b` được gán giá trị 5.\n",
    "; - Biến `c` là hiệu của `a` và `b`, tức là `c = a - b` (kết quả là 2)."
   ]
  },
  {
   "cell_type": "code",
   "execution_count": null,
   "id": "4da21891",
   "metadata": {},
   "outputs": [],
   "source": [
    "city = \"Ha Noi\"\n",
    "year = 2025\n",
    "print(\"Thành phố\", city, \" -Năm: \", year)"
   ]
  },
  {
   "cell_type": "code",
   "execution_count": null,
   "id": "2d2f8559",
   "metadata": {
    "vscode": {
     "languageId": "markdown"
    }
   },
   "outputs": [],
   "source": [
    "### Giải thích các biến và phép toán trong ô trên\n",
    "\n",
    "- Biến `city` được gán giá trị là \"Ha Noi\".\n",
    "- Biến `year` được gán giá trị là 2025.\n",
    "- Lệnh `print(\"Thành phố\", city, \" -Năm: \", year)` sẽ in ra chuỗi \"Thành phố Ha Noi  -Năm:  2025\"."
   ]
  },
  {
   "cell_type": "code",
   "execution_count": null,
   "id": "94d1c7ba",
   "metadata": {},
   "outputs": [],
   "source": []
  },
  {
   "cell_type": "code",
   "execution_count": null,
   "id": "cec5941c",
   "metadata": {},
   "outputs": [],
   "source": [
    "n = 4 \n",
    "t = 0 \n",
    "for i in range (1, n + 1):\n",
    "    t += i\n",
    "    print(t)"
   ]
  },
  {
   "cell_type": "code",
   "execution_count": null,
   "id": "1307f65c",
   "metadata": {
    "vscode": {
     "languageId": "ini"
    }
   },
   "outputs": [],
   "source": [
    "### Giải thích các biến và phép toán trong ô trên\n",
    "\n",
    "- Biến `n` được gán giá trị 4.\n",
    "- Biến `t` được khởi tạo bằng 0 để lưu tổng các số.\n",
    "- Vòng lặp `for` chạy từ 1 đến `n` (bao gồm cả 4). Mỗi lần lặp, giá trị của `i` được cộng vào `t`, sau đó in ra giá trị hiện tại của `t`.\n",
    "- Kết quả là in ra tổng các số liên tiếp từ 1 đến 4."
   ]
  },
  {
   "cell_type": "code",
   "execution_count": null,
   "id": "6b0ae230",
   "metadata": {},
   "outputs": [],
   "source": [
    "numbers = [1, 2, 3, 4]\n",
    "for x in numbers:\n",
    "    if x % 2 == 0:\n",
    "        print(x, \"là số chẵn\")\n",
    "    else:\n",
    "        print(x, \"là số lẻ\")"
   ]
  },
  {
   "cell_type": "code",
   "execution_count": null,
   "id": "6244620e",
   "metadata": {
    "vscode": {
     "languageId": "markdown"
    }
   },
   "outputs": [],
   "source": [
    "- Danh sách `numbers` chứa các số: 1, 2, 3, 4.\n",
    "- Vòng lặp `for` duyệt qua từng phần tử `x` trong danh sách `numbers`.\n",
    "- Nếu `x` chia hết cho 2 (`x % 2 == 0`), in ra \"`x` là số chẵn\".\n",
    "- Ngược lại, in ra \"`x` là số lẻ\"."
   ]
  },
  {
   "cell_type": "code",
   "execution_count": null,
   "id": "561a75e6",
   "metadata": {},
   "outputs": [],
   "source": [
    "animals = [\"cat\", \"dog\", \"cat\", \"bird\"]\n",
    "count = 0\n",
    "for a in animals:\n",
    "    count += 1\n",
    "print(\"Số phần tử trong danh sách là:\", count)"
   ]
  },
  {
   "cell_type": "code",
   "execution_count": null,
   "id": "b3ffb4e4",
   "metadata": {
    "vscode": {
     "languageId": "ini"
    }
   },
   "outputs": [],
   "source": [
    "- Danh sách `animals` chứa các phần tử: \"cat\", \"dog\", \"cat\", \"bird\".\n",
    "- Biến `count` được khởi tạo bằng 0 để đếm số phần tử trong danh sách.\n",
    "- Vòng lặp `for` duyệt qua từng phần tử `a` trong danh sách `animals`, mỗi lần lặp biến `count` được tăng lên 1.\n",
    "- Sau khi kết thúc vòng lặp, lệnh `print` sẽ in ra tổng số phần tử trong danh sách là 4."
   ]
  },
  {
   "cell_type": "markdown",
   "id": "f87b11ec",
   "metadata": {},
   "source": [
    "=== Hệ thống Dự đoán AI ===\n",
    "1) Phân tích cảm xúc\n",
    "2) Dự báo thời tiết\n",
    "3) Thoát\n",
    "Vui lòng chọn một tùy chọn:"
   ]
  },
  {
   "cell_type": "code",
   "execution_count": null,
   "id": "2aadd087",
   "metadata": {
    "vscode": {
     "languageId": "ini"
    }
   },
   "outputs": [],
   "source": [
    "Chương trình trên là một menu hệ thống dự đoán AI với ba lựa chọn:\n",
    "\n",
    "1. Phân tích cảm xúc\n",
    "2. Dự báo thời tiết\n",
    "3. Thoát\n",
    "\n",
    "- Dòng đầu tiên in ra tiêu đề \"Hệ thống Dự đoán AI\".\n",
    "- Các dòng tiếp theo liệt kê các lựa chọn cho người dùng.\n",
    "- Dòng cuối cùng yêu cầu người dùng chọn một tùy chọn.\n",
    "\n",
    "Chương trình này chỉ hiển thị menu, chưa thực hiện chức năng nào khác. Kết quả là hiển thị ra màn hình các dòng hướng dẫn để người dùng lựa chọn thao tác tiếp theo."
   ]
  },
  {
   "cell_type": "code",
   "execution_count": null,
   "id": "9ce8dd41",
   "metadata": {},
   "outputs": [],
   "source": [
    "num = input(\"Nhập số: \")\n",
    "if num % 2 = 0:\n",
    "    print(\"Số chẵn\")\n",
    "else\n",
    "    print(\"Số lẻ\")"
   ]
  },
  {
   "cell_type": "code",
   "execution_count": null,
   "id": "c15cce67",
   "metadata": {
    "vscode": {
     "languageId": "ini"
    }
   },
   "outputs": [],
   "source": [
    "Chương trình ở ô trên yêu cầu người dùng nhập vào một số (`num = input(\"Nhập số: \")`). Sau đó, chương trình kiểm tra xem số đó có phải là số chẵn hay không bằng điều kiện `if num % 2 = 0:`. Nếu đúng, in ra \"Số chẵn\", ngược lại in ra \"Số lẻ\".\n",
    "\n",
    "Tuy nhiên, chương trình sẽ báo lỗi khi chạy vì:\n",
    "- Hàm `input()` trả về kiểu chuỗi (string), nên cần chuyển đổi sang số nguyên bằng `int(num)` trước khi kiểm tra chia hết cho 2.\n",
    "- Trong điều kiện `if`, phải dùng dấu `==` để so sánh, không phải dấu `=`.\n",
    "- Câu lệnh `else` thiếu dấu hai chấm `:`.\n",
    "- Các câu lệnh `print` cần đặt trong dấu ngoặc đơn.\n",
    "\n",
    "Vì vậy, chương trình sẽ không cho ra kết quả đúng như mong đợi nếu không sửa các lỗi cú pháp trên."
   ]
  },
  {
   "cell_type": "code",
   "execution_count": null,
   "id": "ed85c23a",
   "metadata": {},
   "outputs": [],
   "source": [
    "for i in range(3):\n",
    "    print(\"AI đang học lần\", i + 1)\n",
    "    print(\"Huấn luyện xong!\")"
   ]
  },
  {
   "cell_type": "code",
   "execution_count": null,
   "id": "b7b67bdc",
   "metadata": {
    "vscode": {
     "languageId": "markdown"
    }
   },
   "outputs": [],
   "source": [
    "- Vòng lặp `for` duyệt qua từng phần tử `x` trong danh sách `[\"cat\", \"dog\", \"fish\"]`.\n",
    "- Với mỗi giá trị của `x`, chương trình in ra dòng chữ \"Dự đoán con vật:\" kèm theo tên con vật tương ứng.\n",
    "- Kết quả là in ra ba dòng dự đoán cho các con vật: cat, dog, fish."
   ]
  },
  {
   "cell_type": "code",
   "execution_count": null,
   "id": "5c41873b",
   "metadata": {},
   "outputs": [],
   "source": [
    "for x in [\"cat\", \"dog\", \"fish\"]:\n",
    "    print(\"Dự đoán con vật:\", x)"
   ]
  },
  {
   "cell_type": "code",
   "execution_count": null,
   "id": "0e50673a",
   "metadata": {
    "vscode": {
     "languageId": "markdown"
    }
   },
   "outputs": [],
   "source": [
    "- Đoạn mã trên sử dụng vòng lặp `for` để duyệt qua từng phần tử trong danh sách `[\"cat\", \"dog\", \"fish\"]`.\n",
    "- Với mỗi giá trị của `x`, chương trình sẽ in ra dòng chữ \"Dự đoán con vật:\" kèm theo tên con vật tương ứng.\n",
    "- Kết quả là ba dòng dự đoán cho các con vật: cat, dog, fish."
   ]
  },
  {
   "cell_type": "code",
   "execution_count": null,
   "id": "164e4784",
   "metadata": {
    "vscode": {
     "languageId": "ini"
    }
   },
   "outputs": [],
   "source": []
  },
  {
   "cell_type": "code",
   "execution_count": null,
   "id": "094329db",
   "metadata": {
    "vscode": {
     "languageId": "ini"
    }
   },
   "outputs": [],
   "source": [
    "- Đoạn mã dưới tạo một menu đơn giản cho hệ thống dự đoán AI với ba lựa chọn:\n",
    "    1. Phân tích cảm xúc\n",
    "    2. Dự báo thời tiết\n",
    "    3. Thoát\n",
    "- Các dòng `print` dùng để hiển thị tiêu đề và các lựa chọn cho người dùng.\n",
    "- Tuy nhiên, đoạn mã có một số lỗi cú pháp:\n",
    "    - Dòng đầu tiên thiếu dấu ngoặc đơn trong lệnh `print`.\n",
    "    - Một số dòng `print` bị thiếu hoặc thừa dấu ngoặc đơn.\n",
    "- Nếu sửa các lỗi này, chương trình sẽ hiển thị menu cho người dùng lựa chọn thao tác tiếp theo."
   ]
  },
  {
   "cell_type": "code",
   "execution_count": null,
   "id": "8fecf48d",
   "metadata": {},
   "outputs": [],
   "source": [
    "# Simple menu\n",
    "print \"=== AI Prediction System ===\"\n",
    "print(\"1) Sentiment analysis\"\n",
    "print(\"2) Weather forecast\"))\n",
    "print('3) Exit'\n",
    "print(\"Please choose an option:\")"
   ]
  },
  {
   "cell_type": "code",
   "execution_count": null,
   "id": "ae72968c",
   "metadata": {},
   "outputs": [],
   "source": []
  },
  {
   "cell_type": "code",
   "execution_count": null,
   "id": "514cc8d5",
   "metadata": {},
   "outputs": [],
   "source": []
  }
 ],
 "metadata": {
  "language_info": {
   "name": "python"
  }
 },
 "nbformat": 4,
 "nbformat_minor": 5
}
