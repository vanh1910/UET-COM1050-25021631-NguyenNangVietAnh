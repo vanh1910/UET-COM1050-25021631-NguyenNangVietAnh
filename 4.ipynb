{
 "cells": [
  {
   "cell_type": "code",
   "execution_count": null,
   "id": "89ec542c",
   "metadata": {},
   "outputs": [
    {
     "name": "stdout",
     "output_type": "stream",
     "text": [
      "chu vi 58\n",
      "dien tich 190\n"
     ]
    }
   ],
   "source": [
    "#1\n",
    "a,b = map(float, input().split())\n",
    "print(\"chu vi\", (a+b)*2)\n",
    "print(\"dien tich\", a*b)"
   ]
  },
  {
   "cell_type": "code",
   "execution_count": null,
   "id": "aec18ab2",
   "metadata": {},
   "outputs": [
    {
     "name": "stdout",
     "output_type": "stream",
     "text": [
      "chu vi 77.91149780902687\n",
      "dien tich 483.0512864159667\n"
     ]
    }
   ],
   "source": [
    "#2\n",
    "import math\n",
    "a = float(input())\n",
    "\n",
    "print(\"chu vi\", 2*a*math.pi)\n",
    "print(\"dien tich\", a*a*math.pi)"
   ]
  },
  {
   "cell_type": "code",
   "execution_count": 4,
   "id": "749add96",
   "metadata": {},
   "outputs": [
    {
     "name": "stdout",
     "output_type": "stream",
     "text": [
      "khong phai tam giac\n"
     ]
    }
   ],
   "source": [
    "#3\n",
    "a,b,c = map(float, input().split())\n",
    "if a+b>c and a+c>b and b+c>a:\n",
    "    if a==b and b==c:\n",
    "        print(\"deu\")\n",
    "    elif a==b or b==c or a==c:\n",
    "        print(\"can\")\n",
    "    elif a*a+b*b==c*c or a*a+c*c==b*b or b*b+c*c==a*a:\n",
    "        print(\"vuong\")\n",
    "    else:\n",
    "        print(\"thuong\")\n",
    "else:\n",
    "    print(\"khong phai tam giac\")\n"
   ]
  },
  {
   "cell_type": "code",
   "execution_count": 5,
   "id": "e11707bf",
   "metadata": {},
   "outputs": [
    {
     "name": "stdout",
     "output_type": "stream",
     "text": [
      "x: -4.0\n"
     ]
    }
   ],
   "source": [
    "#4\n",
    "a,b = map(float, input().split())\n",
    "print(\"x:\", -b/a)\n"
   ]
  },
  {
   "cell_type": "code",
   "execution_count": 6,
   "id": "0b6bb748",
   "metadata": {},
   "outputs": [
    {
     "name": "stdout",
     "output_type": "stream",
     "text": [
      "x: -1.0\n"
     ]
    }
   ],
   "source": [
    "#5\n",
    "a,b,c = map(float, input().split())\n",
    "if a==0:\n",
    "    if b==0:\n",
    "        if c==0:\n",
    "            print(\"vo so nghiem\")\n",
    "        else:\n",
    "            print(\"vo nghiem\")\n",
    "    else:\n",
    "        print(\"x:\", -c/b)\n",
    "else:\n",
    "    delta = b*b - 4*a*c\n",
    "    if delta < 0:\n",
    "        print(\"vo nghiem\")\n",
    "    elif delta == 0:\n",
    "        print(\"x:\", -b/(2*a))\n",
    "    else:\n",
    "        x1 = (-b + math.sqrt(delta)) / (2*a)\n",
    "        x2 = (-b - math.sqrt(delta)) / (2*a)\n",
    "        print(\"x1:\", x1)\n",
    "        print(\"x2:\", x2)"
   ]
  },
  {
   "cell_type": "code",
   "execution_count": 7,
   "id": "73cea000",
   "metadata": {},
   "outputs": [
    {
     "name": "stdout",
     "output_type": "stream",
     "text": [
      "max: 22.0\n"
     ]
    }
   ],
   "source": [
    "#6 \n",
    "a,b,c,d = map(float, input().split())\n",
    "print(\"max:\", max(a,b,c,d))"
   ]
  },
  {
   "cell_type": "code",
   "execution_count": 9,
   "id": "d9689a14",
   "metadata": {},
   "outputs": [
    {
     "name": "stdout",
     "output_type": "stream",
     "text": [
      "min: -1e-06\n"
     ]
    }
   ],
   "source": [
    "#7\n",
    "a = []\n",
    "a = list(map(float, input().split()))\n",
    "a.sort()\n",
    "print(\"min:\", a[0])"
   ]
  },
  {
   "cell_type": "code",
   "execution_count": 11,
   "id": "8ecc3d8c",
   "metadata": {},
   "outputs": [
    {
     "name": "stdout",
     "output_type": "stream",
     "text": [
      "x: -1.0\n",
      "y: 2.0\n"
     ]
    }
   ],
   "source": [
    "#8\n",
    "a,b,m,c,d,n = map(float, input().split())\n",
    "if a==c and b==d:\n",
    "    print(\"vo so nghiem\")\n",
    "elif a*d-b*c==0:\n",
    "    print(\"vo nghiem\")\n",
    "else:\n",
    "    x = (m*d-b*n)/(a*d-b*c)\n",
    "    y = (a*n-m*c)/(a*d-b*c)\n",
    "    print(\"x:\", x)\n",
    "    print(\"y:\", y)"
   ]
  },
  {
   "cell_type": "code",
   "execution_count": 12,
   "id": "acf689ea",
   "metadata": {},
   "outputs": [
    {
     "name": "stdout",
     "output_type": "stream",
     "text": [
      "53566614 gio 40 phut 39 giay\n"
     ]
    }
   ],
   "source": [
    "#9\n",
    "s = int(input())\n",
    "h = s//3600\n",
    "m = (s%3600)//60\n",
    "s = s%60\n",
    "print(h, \"gio\", m, \"phut\", s, \"giay\")"
   ]
  },
  {
   "cell_type": "code",
   "execution_count": 13,
   "id": "05e77844",
   "metadata": {},
   "outputs": [
    {
     "name": "stdout",
     "output_type": "stream",
     "text": [
      "A khong thuoc duong tron\n"
     ]
    }
   ],
   "source": [
    "#10\n",
    "ix, iy, r = map(float, input().split())\n",
    "ax, ay = map(float, input().split())\n",
    "if (ix-ax)**2 + (iy-ay)**2 == r**2:\n",
    "    print(\"A thuoc duong tron\")\n",
    "else:\n",
    "    print(\"A khong thuoc duong tron\")"
   ]
  },
  {
   "cell_type": "code",
   "execution_count": 14,
   "id": "c7f2b264",
   "metadata": {},
   "outputs": [
    {
     "name": "stdout",
     "output_type": "stream",
     "text": [
      "5.160721176950218\n"
     ]
    }
   ],
   "source": [
    "x,y = map(float, input().split())\n",
    "print(x**y)"
   ]
  }
 ],
 "metadata": {
  "kernelspec": {
   "display_name": ".venv",
   "language": "python",
   "name": "python3"
  },
  "language_info": {
   "codemirror_mode": {
    "name": "ipython",
    "version": 3
   },
   "file_extension": ".py",
   "mimetype": "text/x-python",
   "name": "python",
   "nbconvert_exporter": "python",
   "pygments_lexer": "ipython3",
   "version": "3.13.7"
  }
 },
 "nbformat": 4,
 "nbformat_minor": 5
}
