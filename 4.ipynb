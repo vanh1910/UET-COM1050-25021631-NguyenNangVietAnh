{
 "cells": [
  {
   "cell_type": "code",
   "execution_count": null,
   "id": "f61393e3",
   "metadata": {},
   "outputs": [
    {
     "name": "stdout",
     "output_type": "stream",
     "text": [
      "500500\n"
     ]
    }
   ],
   "source": [
    "#1\n",
    "n = int(input())\n",
    "ans = 1\n",
    "for i in range (2,n+1):\n",
    "    ans += i\n",
    "print(ans)"
   ]
  },
  {
   "cell_type": "code",
   "execution_count": null,
   "id": "f5b69a9e",
   "metadata": {},
   "outputs": [
    {
     "name": "stdout",
     "output_type": "stream",
     "text": [
      "10000007 ko la snt\n"
     ]
    }
   ],
   "source": [
    "#2\n",
    "n = -1\n",
    "while n <= 0:\n",
    "    n = int(input())\n",
    "    if (n > 0):\n",
    "        i = 2\n",
    "        isPrime = True\n",
    "        while (i*i <= n):\n",
    "            if (n % i == 0):\n",
    "                isPrime = False\n",
    "                break\n",
    "            i += 1\n",
    "        if (isPrime):\n",
    "            print(n,\"la snt\")\n",
    "        else:\n",
    "            print(n, \"ko la snt\")\n",
    "        break"
   ]
  },
  {
   "cell_type": "code",
   "execution_count": 8,
   "id": "7d0d1b5b",
   "metadata": {},
   "outputs": [
    {
     "name": "stdout",
     "output_type": "stream",
     "text": [
      "355687428096000\n"
     ]
    }
   ],
   "source": [
    "#3\n",
    "n = int(input())\n",
    "ans = 1\n",
    "for i in range (2,n+1):\n",
    "    ans *= i\n",
    "print(ans)"
   ]
  },
  {
   "cell_type": "code",
   "execution_count": 13,
   "id": "18584f8e",
   "metadata": {},
   "outputs": [
    {
     "name": "stdout",
     "output_type": "stream",
     "text": [
      "4\n"
     ]
    }
   ],
   "source": [
    "#4\n",
    "import math\n",
    "n = int(input())\n",
    "n = abs(n)\n",
    "ans = 1 if n == 0 else 0\n",
    "while (n > 0):\n",
    "    n = n //10\n",
    "    ans += 1\n",
    "print(ans)\n"
   ]
  },
  {
   "cell_type": "code",
   "execution_count": null,
   "id": "faeb94b1",
   "metadata": {},
   "outputs": [
    {
     "name": "stdout",
     "output_type": "stream",
     "text": [
      "I've found the meaning of life!\n"
     ]
    }
   ],
   "source": [
    "#5\n",
    "n = int(input())\n",
    "ans = False\n",
    "for i in range(n):\n",
    "    x = int(input())\n",
    "    if (x == 42):\n",
    "        ans = True\n",
    "\n",
    "if ans:\n",
    "    print(\"I've found the meaning of life!\")\n",
    "else:\n",
    "    print(\"It's a joke\")"
   ]
  },
  {
   "cell_type": "code",
   "execution_count": null,
   "id": "3f803c8c",
   "metadata": {},
   "outputs": [
    {
     "name": "stdout",
     "output_type": "stream",
     "text": [
      "56527672850\n"
     ]
    }
   ],
   "source": [
    "#6\n",
    "a,b = map(int,input().split())\n",
    "isPrime = [True] * (b+1)\n",
    "isPrime[1] = False\n",
    "for i in range (2,b+1):\n",
    "    if (isPrime[i] == True):\n",
    "        j = 2\n",
    "        while (j * i <= b):\n",
    "            isPrime[j * i] = False\n",
    "            j += 1\n",
    "\n",
    "ans = 0\n",
    "for i in range (a,b+1):\n",
    "    ans += i * isPrime[i]\n",
    "\n",
    "print(ans)\n"
   ]
  },
  {
   "cell_type": "code",
   "execution_count": 26,
   "id": "5c010d22",
   "metadata": {},
   "outputs": [
    {
     "name": "stdout",
     "output_type": "stream",
     "text": [
      "650927\n"
     ]
    }
   ],
   "source": [
    "import math\n",
    "n = int(input())\n",
    "prime = []\n",
    "isPrime = [True] * (n + 1)\n",
    "isPrime[1] = False\n",
    "for i in range (2,n+1):\n",
    "    if (isPrime[i] == True):\n",
    "        prime.append(i)\n",
    "        j = 2\n",
    "        while (j * i <= n):\n",
    "            isPrime[j * i] = False\n",
    "            j += 1\n",
    "\n",
    "for i in prime[::-1]:\n",
    "    if (n % i == 0):\n",
    "        print(i)\n",
    "        break\n"
   ]
  },
  {
   "cell_type": "code",
   "execution_count": null,
   "id": "f1745b34",
   "metadata": {},
   "outputs": [
    {
     "name": "stdout",
     "output_type": "stream",
     "text": [
      "44044 5\n"
     ]
    }
   ],
   "source": [
    "#8\n",
    "n = int(input())\n",
    "steps = 0\n",
    "while (True):\n",
    "    #check Palindrome\n",
    "    isPalindrome = True\n",
    "    s = str(n)\n",
    "    i,j = 0, len(s) - 1\n",
    "    while (i < j):\n",
    "        if s[i] != s[j]:\n",
    "            isPalindrome = False\n",
    "            break\n",
    "        else:\n",
    "            i += 1\n",
    "            j -= 1\n",
    "    if (isPalindrome):\n",
    "        print(n, steps)\n",
    "        break\n",
    "    \n",
    "    steps += 1\n",
    "    rev = int(s[::-1])\n",
    "    n += rev"
   ]
  },
  {
   "cell_type": "code",
   "execution_count": null,
   "id": "4228f291",
   "metadata": {},
   "outputs": [
    {
     "name": "stdout",
     "output_type": "stream",
     "text": [
      "1 4 9 16 25 36 49 64 81 169 196 256 289 324 361 529 576 625 729 784 841 961 1024 1089 1296 1369 1764 1849 1936 2304 2401 2601 2704 2809 2916 3025 3249 3481 3721 4096 4356 4761 5041 5184 5329 5476 6084 6241 6724 7056 7396 7569 7921 8649 9025 9216 9604 9801 12769 13456 13689 13924 15376 15876 16384 17689 17956 18496 18769 20164 20736 21609 21904 23104 23409 23716 28561 29584 30276 30625 30976 31684 32041 32761 34596 35721 36481 37249 38025 38416 39204 39601 41209 43681 45369 45796 47089 47961 50176 51076 51984 53824 54289 61504 63504 67081 71289 71824 72361 73984 74529 78961 79524 81796 82369 83521 85264 87025 89401 91204 92416 93025 95481 96721 103684 104329 104976 107584 123904 124609 132496 134689 139876 140625 157609 162409 164025 170569 173056 180625 195364 198025 207936 209764 214369 237169 254016 257049 258064 259081 279841 293764 310249 318096 321489 326041 327184 329476 341056 346921 349281 351649 356409 357604 379456 381924 385641 390625 391876 395641 401956 405769 408321 416025 418609 423801 436921 458329 470596 483025 497025 501264 502681 508369 514089 524176 537289 543169 549081 573049 576081 582169 603729 605284 613089 635209 638401 648025 651249 687241 703921 708964 710649 714025 725904 729316 731025 751689 758641 760384 781456 790321 813604 815409 819025 839056 863041 872356 893025 937024 1034289 1046529 1048576 1054729 1056784 1073296 1075369 1085764 1238769 1247689 1354896 1380625 1382976 1432809 1507984 1605289 1607824 1630729 1695204 1708249 1750329 1763584 1803649 1827904 1836025 1890625 1946025 1974025 2039184 2053489 2076481 2079364 2085136 2140369 2374681 2537649 2540836 2650384 2709316 2715904 2893401 2910436 3048516 3207681 3297856 3481956 3508129 3594816 3621409 3690241 3748096 3798601 3814209 3857296 3904576 3964081 3984016 4052169 4108729 4280761 4389025 4507129 4519876 4730625 4835601 4853209 5184729 5294601 5308416 5340721 5387041 5391684 5410276 5470921 5673924 5740816 5764801 5827396 5948721 6215049 6285049 6295081 6385729 6390784 6395841 6487209 6512704 6517809 6538249 6734025 6754801 6853924 7139584 7203856 7214596 7284601 7295401 7349521 7436529 7458361 7845601 7851204 7958041 7980625 8213956 8305924 8317456 8439025 8473921 8567329 8579041 8590761 8673025 8904256 8952064 9108324 9247681 9253764 9357481 9572836 9641025 9678321 9872164 10278436 10673289 10679824 10837264 13498276 13527684 13675204 13860729 13942756 16378209 16785409 17280649 17430625 19847025 20584369 20738916 21307456 21473956 21743569 23078416 23174596 23970816 24137569 24671089 24870169 28901376 30569841 32478601 32970564 34257609 34798201 34857216 34869025 35617024 36517849 36857041 37149025 37185604 37540129 38142976 38204761 38427601 39715204 41563809 41783296 41938576 42367081 43507216 43890625 45239076 45387169 45738169 46389721 47596201 47623801 47831056 52041796 52374169 52693081 52940176 53860921 54213769 56731024 56972304 56987401 57108249 57214096 58079641 58967041 59274601 60481729 63059481 63154809 65318724 67092481 68973025 70291456 70459236 70492816 71098624 71453209 71520849 72148036 73256481 73925604 73942801 74356129 74390625 80514729 81432576 83759104 84290761 85063729 86397025 94187025 96138025 98327056 102495376 102576384 102738496 104325796 105637284 139854276 152843769 157326849 158306724 158407396 172843609 176039824 176305284 178035649 180472356 183467025 187635204 198753604 208571364 215384976 217356049 218034756 235714609 245893761 254817369 273869401 284057316 297631504 307265841 316057284 317409856 326597184 361874529 375468129 382945761 385297641 403567921 412739856 420783169 430728516 457831609 459630721 472801536 475283601 478603129 479653801 491730625 504271936 523814769 529874361 534210769 537219684 549386721 560837124 563017984 570684321 576432081 587432169 589324176 597362481 615387249 627953481 639027841 653927184 672935481 683927104 694375201 697435281 714653289 734681025 735982641 740329681 743816529 783104256 793605241 798401536 803495716 816930724 825470361 842973156 847159236 853107264 923187456 1026753849 1042385796 1098524736 1237069584 1248703569 1278563049 1285437609 1382054976 1436789025 1503267984 1532487609 1547320896 1643897025 1827049536 1927385604 1937408256 2076351489 2081549376 2170348569 2386517904 2431870596 2435718609 2571098436 2913408576 3015986724 3074258916 3082914576 3089247561 3094251876 3195867024 3285697041 3412078569 3416987025 3428570916 3528716409 3719048256 3791480625 3827401956 3928657041 3964087521 3975428601 3985270641 4307821956 4308215769 4369871025 4392508176 4580176329 4728350169 4730825961 4832057169 5102673489 5273809641 5739426081 5783146209 5803697124 5982403716 6095237184 6154873209 6457890321 6471398025 6597013284 6714983025 7042398561 7165283904 7285134609 7351862049 7362154809 7408561329 7680594321 7854036129 7935068241 7946831025 7984316025 8014367529 8125940736 8127563409 8135679204 8326197504 8391476025 8503421796 8967143025 9054283716 9351276804 9560732841 9614783025 9761835204 9814072356 "
     ]
    }
   ],
   "source": [
    "#9\n",
    "n = int(input())\n",
    "i = 1\n",
    "ans = 0\n",
    "while (i*i <= n):\n",
    "    s = str(i*i)\n",
    "    \n",
    "    if (len(s) > 10):\n",
    "        break\n",
    "    s = sorted(s)\n",
    "    flag = False\n",
    "    for x in range (1,len(s)):\n",
    "        if (s[x] == s[x-1]):\n",
    "            flag = True\n",
    "            break\n",
    "    if flag:\n",
    "        i += 1\n",
    "        continue\n",
    "    else:\n",
    "        ans += 1\n",
    "        print(i*i, end = \" \")\n",
    "        i += 1\n",
    "\n",
    "if not ans:\n",
    "    print (\"no number\")\n",
    "        \n",
    "        \n"
   ]
  },
  {
   "cell_type": "code",
   "execution_count": null,
   "id": "fec03011",
   "metadata": {},
   "outputs": [
    {
     "name": "stdout",
     "output_type": "stream",
     "text": [
      "871 178\n"
     ]
    }
   ],
   "source": [
    "#10\n",
    "n = int(input())\n",
    "maxn = 10**6\n",
    "leng = [0] * (maxn+1)\n",
    "\n",
    "def recursive(x) -> int :\n",
    "    # print(x, end = \" \")\n",
    "    if (x == 1):\n",
    "        return 0\n",
    "    elif (x <= maxn):\n",
    "        if (leng[x] > 0):\n",
    "            return leng[x]\n",
    "    new = 0\n",
    "    if (x % 2 == 0):\n",
    "        new = x // 2\n",
    "    else:\n",
    "        new = x * 3 + 1\n",
    "\n",
    "    if (x <= maxn):\n",
    "        leng[x] = recursive(new) + 1\n",
    "        return leng[x]\n",
    "    else:\n",
    "        return recursive(new) + 1\n",
    "    \n",
    "for i in range (1,n+1):\n",
    "    recursive(i)\n",
    "    # print(\"ok\")\n",
    "\n",
    "mx = 0\n",
    "ans = 0\n",
    "\n",
    "for i in range (1,n+1):\n",
    "    if (leng[i] > mx):\n",
    "        mx = leng[i]\n",
    "        ans = i\n",
    "\n",
    "print(ans,mx)\n"
   ]
  },
  {
   "cell_type": "code",
   "execution_count": 26,
   "id": "6d1b20af",
   "metadata": {},
   "outputs": [
    {
     "name": "stdout",
     "output_type": "stream",
     "text": [
      "19\n"
     ]
    }
   ],
   "source": [
    "#11\n",
    "import math\n",
    "ans = 0\n",
    "n = int(input())\n",
    "for i in range (1,math.isqrt(n)):\n",
    "    if (n % i == 0):\n",
    "        if i % 2 == 0:\n",
    "            ans += 1\n",
    "        if (n//i) % 2 ==0:\n",
    "            ans += 1\n",
    "\n",
    "print(ans)"
   ]
  },
  {
   "cell_type": "code",
   "execution_count": null,
   "id": "d8285d89",
   "metadata": {},
   "outputs": [
    {
     "name": "stdout",
     "output_type": "stream",
     "text": [
      "1232775\n"
     ]
    }
   ],
   "source": [
    "#12\n",
    "x,n = map(int,input().split())\n",
    "print (math.floor(x * (1.007)**n))\n"
   ]
  },
  {
   "cell_type": "code",
   "execution_count": 32,
   "id": "050cc333",
   "metadata": {},
   "outputs": [
    {
     "name": "stdout",
     "output_type": "stream",
     "text": [
      "YES\n"
     ]
    }
   ],
   "source": [
    "#13\n",
    "a,b = map(int,input().split())\n",
    "def sumDiv(n) -> int:\n",
    "    s = 1\n",
    "    for i in range (2,math.isqrt(n)+1):\n",
    "        if (n % i == 0):\n",
    "            s += i\n",
    "            if (i != n // i):\n",
    "                s += n // i\n",
    "    return s\n",
    "if (a == sumDiv(b) and b == sumDiv(a)):\n",
    "    print(\"YES\")\n",
    "else:\n",
    "    print(\"NO\")"
   ]
  },
  {
   "cell_type": "code",
   "execution_count": 45,
   "id": "9924c2a5",
   "metadata": {},
   "outputs": [
    {
     "name": "stdout",
     "output_type": "stream",
     "text": [
      "1\n"
     ]
    }
   ],
   "source": [
    "#14\n",
    "a,b = map(int,input().split())\n",
    "while (a != b):\n",
    "    if (max(a,b) == b):\n",
    "        a,b = b,a\n",
    "    a -= b\n",
    "print (a)"
   ]
  },
  {
   "cell_type": "code",
   "execution_count": 42,
   "id": "5b0d1c1a",
   "metadata": {},
   "outputs": [
    {
     "name": "stdout",
     "output_type": "stream",
     "text": [
      "22 14\n"
     ]
    }
   ],
   "source": [
    "#15\n",
    "a,b = map(int,input().split())\n",
    "print( (4*a-b)//2, (b-2*a)//2 )"
   ]
  },
  {
   "cell_type": "code",
   "execution_count": null,
   "id": "14fdead5",
   "metadata": {},
   "outputs": [],
   "source": []
  }
 ],
 "metadata": {
  "kernelspec": {
   "display_name": ".venv",
   "language": "python",
   "name": "python3"
  },
  "language_info": {
   "codemirror_mode": {
    "name": "ipython",
    "version": 3
   },
   "file_extension": ".py",
   "mimetype": "text/x-python",
   "name": "python",
   "nbconvert_exporter": "python",
   "pygments_lexer": "ipython3",
   "version": "3.13.7"
  }
 },
 "nbformat": 4,
 "nbformat_minor": 5
}
