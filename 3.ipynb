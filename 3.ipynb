{
 "cells": [
  {
   "cell_type": "code",
   "execution_count": 3,
   "id": "8c22d138",
   "metadata": {},
   "outputs": [
    {
     "name": "stdout",
     "output_type": "stream",
     "text": [
      "6\n"
     ]
    }
   ],
   "source": [
    "#1.1\n",
    "print(2 * int(input()))"
   ]
  },
  {
   "cell_type": "code",
   "execution_count": 5,
   "id": "88a63ef6",
   "metadata": {},
   "outputs": [
    {
     "name": "stdout",
     "output_type": "stream",
     "text": [
      "168.6\n"
     ]
    }
   ],
   "source": [
    "#1.2\n",
    "a,b = map(float, input().split())\n",
    "print (a*b - min(a,b)*3.14)"
   ]
  },
  {
   "cell_type": "code",
   "execution_count": null,
   "id": "24431a86",
   "metadata": {},
   "outputs": [
    {
     "name": "stdout",
     "output_type": "stream",
     "text": [
      "X\n"
     ]
    }
   ],
   "source": [
    "#1.3\n",
    "a = input()\n",
    "if 'a' <= a <= 'z':\n",
    "    print(chr(ord(a) - 32))\n",
    "else:\n",
    "    print(chr(ord(a) + 32))\n",
    "\n"
   ]
  },
  {
   "cell_type": "code",
   "execution_count": null,
   "id": "5744fcae",
   "metadata": {},
   "outputs": [
    {
     "name": "stdout",
     "output_type": "stream",
     "text": [
      "a  la ki tu alphabet\n"
     ]
    }
   ],
   "source": [
    "#1.4\n",
    "c = input()\n",
    "if (c >= 'a' and c <= 'z') or (c >= 'A' and c <= 'Z'):\n",
    "    print (c, \" la ki tu alphabet\")\n",
    "else:\n",
    "    print(c, \" khong la ki tu alphabet\")  "
   ]
  },
  {
   "cell_type": "code",
   "execution_count": null,
   "id": "a0db47e2",
   "metadata": {},
   "outputs": [
    {
     "name": "stdout",
     "output_type": "stream",
     "text": [
      "e\n"
     ]
    }
   ],
   "source": [
    "#1.5 \n",
    "c = input()\n",
    "if c == 'A':\n",
    "    print('z')\n",
    "elif 'B' <= c <= 'Z':\n",
    "    print(chr(ord(c) + 32 - 1))"
   ]
  },
  {
   "cell_type": "code",
   "execution_count": null,
   "id": "e05863ff",
   "metadata": {},
   "outputs": [
    {
     "name": "stdout",
     "output_type": "stream",
     "text": [
      "6.5\n"
     ]
    }
   ],
   "source": [
    "#1.6 \n",
    "a,b,c = map(float, input().split())\n",
    "if a + b > c and a + c > b and b + c > a:\n",
    "    p = (a + b + c) / 2\n",
    "    S = (p * (p - a) * (p - b) * (p - c)) ** 0.5\n",
    "    print(f\"{S:.1f}\")\n",
    "else:\n",
    "    print(\"Khong phai 3 canh cua tam giac\")"
   ]
  },
  {
   "cell_type": "code",
   "execution_count": null,
   "id": "5c8378d3",
   "metadata": {},
   "outputs": [
    {
     "name": "stdout",
     "output_type": "stream",
     "text": [
      "f l\n"
     ]
    }
   ],
   "source": [
    "#1.7\n",
    "s = str(input())\n",
    "\n",
    "print(s[4], s[9])"
   ]
  },
  {
   "cell_type": "code",
   "execution_count": null,
   "id": "bc22e1b8",
   "metadata": {},
   "outputs": [
    {
     "name": "stdout",
     "output_type": "stream",
     "text": [
      "Ho va ten:  ok\n",
      "Tien phai tra la: 107136\n"
     ]
    }
   ],
   "source": [
    "#1.8 input a string and interger split by :\n",
    "s, hvt = input().split(\": \")\n",
    "s, a = input().split(':')\n",
    "s,b = input().split(':')\n",
    "a = int(a)\n",
    "b = int(b)\n",
    "x = b - a\n",
    "cost = 0\n",
    "\n",
    "c1 = 1984*50\n",
    "c2 = c1 + 2050 * 50\n",
    "c3 = c2 + 2380 * 100\n",
    "c4 = c3 + 2998 * 100\n",
    "c5 = c4 + 3350 * 100\n",
    "\n",
    "if x <= 50:\n",
    "    cost = x * 1984\n",
    "elif x <= 100:\n",
    "    cost = c1 + (x - 50) * 2050\n",
    "elif x <= 200:\n",
    "    cost = c2 + (x - 100) * 2380\n",
    "elif x <= 300:\n",
    "    cost = c3 + (x - 200) * 2998\n",
    "elif x <= 400:\n",
    "    cost = c4 + (x - 300) * 3350\n",
    "else:\n",
    "    cost = c5 + (x - 400) * 3460\n",
    "\n",
    "print(\"Ho va ten:\", hvt)\n",
    "print (\"Tien phai tra la:\", round(cost * 1.08))"
   ]
  },
  {
   "cell_type": "code",
   "execution_count": 6,
   "id": "7ff8d576",
   "metadata": {},
   "outputs": [
    {
     "name": "stdout",
     "output_type": "stream",
     "text": [
      "19 la so le\n"
     ]
    }
   ],
   "source": [
    "#2.1 \n",
    "n = int(input())\n",
    "if n % 2 == 0:\n",
    "    print(n, \"la so chan\")\n",
    "else:\n",
    "    print(n, \"la so le\")"
   ]
  },
  {
   "cell_type": "code",
   "execution_count": 7,
   "id": "610e9c0d",
   "metadata": {},
   "outputs": [
    {
     "name": "stdout",
     "output_type": "stream",
     "text": [
      "False\n"
     ]
    }
   ],
   "source": [
    "#2.2 \n",
    "n = int(input())\n",
    "if n % 10 == 5:\n",
    "    print(\"True\")\n",
    "else:\n",
    "    print(\"False\")"
   ]
  },
  {
   "cell_type": "code",
   "execution_count": 8,
   "id": "0404e6f5",
   "metadata": {},
   "outputs": [
    {
     "name": "stdout",
     "output_type": "stream",
     "text": [
      "True\n"
     ]
    }
   ],
   "source": [
    "#2.3\n",
    "\n",
    "n = int(input())\n",
    "if n % 3 == 0 and n % 5 == 0:\n",
    "    print(\"True\")\n",
    "else:\n",
    "    print(\"False\")\n"
   ]
  },
  {
   "cell_type": "code",
   "execution_count": 9,
   "id": "ccff5d40",
   "metadata": {},
   "outputs": [
    {
     "name": "stdout",
     "output_type": "stream",
     "text": [
      "Du dieu kien bau cu\n"
     ]
    }
   ],
   "source": [
    "#2.4\n",
    "\n",
    "year = int(input())\n",
    "if 2025 - year >= 18:\n",
    "    print(\"Du dieu kien bau cu\")\n",
    "else:\n",
    "    print(\"Khong du dieu kien bau cu\")"
   ]
  },
  {
   "cell_type": "code",
   "execution_count": 10,
   "id": "8ce59e8f",
   "metadata": {},
   "outputs": [
    {
     "name": "stdout",
     "output_type": "stream",
     "text": [
      "Hai so bang nhau\n"
     ]
    }
   ],
   "source": [
    "#2.5\n",
    "\n",
    "a, b = map(float, input().split())\n",
    "if a > b:\n",
    "    print(a)\n",
    "elif a < b:\n",
    "    print(b)\n",
    "else:\n",
    "    print(\"Hai so bang nhau\")"
   ]
  },
  {
   "cell_type": "code",
   "execution_count": 11,
   "id": "4ed5e239",
   "metadata": {},
   "outputs": [
    {
     "name": "stdout",
     "output_type": "stream",
     "text": [
      "x  la ki tu alphabet\n"
     ]
    }
   ],
   "source": [
    "#2.6\n",
    "# Kiểm tra ký tự nhập vào là chữ hay số: Viết chương trình nhập một ký tự, kiểm\n",
    "# tra xem ký tự đó là chữ cái hay số.\n",
    "\n",
    "c = input()\n",
    "if (c >= 'a' and c <= 'z') or (c >= 'A' and c <= 'Z'):\n",
    "        print (c, \" la ki tu alphabet\")\n",
    "else:\n",
    "    print(c, \" khong la ki tu alphabet\")\n"
   ]
  },
  {
   "cell_type": "code",
   "execution_count": 12,
   "id": "55548a26",
   "metadata": {},
   "outputs": [
    {
     "name": "stdout",
     "output_type": "stream",
     "text": [
      "Gioi\n"
     ]
    }
   ],
   "source": [
    "#2.7\n",
    "\n",
    "diem = float(input())\n",
    "if diem >= 8:\n",
    "    print(\"Gioi\")\n",
    "elif diem >= 6.5:\n",
    "    print(\"Kha\")\n",
    "elif diem >= 5:\n",
    "    print(\"Trung binh\")\n",
    "else:\n",
    "    print(\"Yeu\")"
   ]
  },
  {
   "cell_type": "code",
   "execution_count": 13,
   "id": "ab8c540b",
   "metadata": {},
   "outputs": [
    {
     "name": "stdout",
     "output_type": "stream",
     "text": [
      "valid\n"
     ]
    }
   ],
   "source": [
    "#2.8\n",
    "def main():\n",
    "    d,m,y = map(int, input().split('/'))\n",
    "    if (1 > d or 1 > m or y < 1900):\n",
    "        print(\"invalid datetime\")\n",
    "        return\n",
    "    \n",
    "    match m:\n",
    "        case 4 | 6 | 9 | 11:\n",
    "            if (d <= 30): \n",
    "                print(\"valid\")\n",
    "            else:\n",
    "                print(\"invalid\")\n",
    "        case 1 | 3 | 5 | 7 | 8 | 10 | 12:\n",
    "            if (d <= 31):\n",
    "                print(\"valid\")\n",
    "            else:\n",
    "                print(\"invalid\")\n",
    "        case 2:\n",
    "            if y % 400 == 0 or (y % 4 == 0 and y % 100 != 0):\n",
    "                print(\"valid\")\n",
    "            else:\n",
    "                print(\"invalid\")\n",
    "        case _:\n",
    "            print(\"invalid\")\n",
    "    \n",
    "main()\n"
   ]
  },
  {
   "cell_type": "code",
   "execution_count": 14,
   "id": "acd1ee3f",
   "metadata": {},
   "outputs": [
    {
     "name": "stdout",
     "output_type": "stream",
     "text": [
      "Tam\n"
     ]
    }
   ],
   "source": [
    "#2.9\n",
    "\n",
    "n = int(input())\n",
    "match n:\n",
    "    case 0:\n",
    "        print(\"Khong\")\n",
    "    case 1:\n",
    "        print(\"Mot\")\n",
    "    case 2:\n",
    "        print(\"Hai\")\n",
    "    case 3:\n",
    "        print(\"Ba\")\n",
    "    case 4:\n",
    "        print(\"Bon\")\n",
    "    case 5:\n",
    "        print(\"Nam\")\n",
    "    case 6:\n",
    "        print(\"Sau\")\n",
    "    case 7:\n",
    "        print(\"Bay\")\n",
    "    case 8:\n",
    "        print(\"Tam\")\n",
    "    case 9:\n",
    "        print(\"Chin\")\n",
    "    case _:\n",
    "        print(\"Khong hop le\")"
   ]
  },
  {
   "cell_type": "code",
   "execution_count": 15,
   "id": "a084cd76",
   "metadata": {},
   "outputs": [
    {
     "name": "stdout",
     "output_type": "stream",
     "text": [
      "Hoc lai\n"
     ]
    }
   ],
   "source": [
    "#2.10 \n",
    "diem = float(input())\n",
    "if diem >= 4:\n",
    "    print(\"Qua mon\")\n",
    "else:\n",
    "    print(\"Hoc lai\")"
   ]
  },
  {
   "cell_type": "code",
   "execution_count": 16,
   "id": "4c9e0561",
   "metadata": {},
   "outputs": [
    {
     "name": "stdout",
     "output_type": "stream",
     "text": [
      "Chua du tuoi\n"
     ]
    }
   ],
   "source": [
    "#2.11 \n",
    "year = int(input())\n",
    "if 2025 - year >= 18:\n",
    "    print(\"Du tuoi\")\n",
    "else:\n",
    "    print(\"Chua du tuoi\")"
   ]
  }
 ],
 "metadata": {
  "kernelspec": {
   "display_name": ".venv",
   "language": "python",
   "name": "python3"
  },
  "language_info": {
   "codemirror_mode": {
    "name": "ipython",
    "version": 3
   },
   "file_extension": ".py",
   "mimetype": "text/x-python",
   "name": "python",
   "nbconvert_exporter": "python",
   "pygments_lexer": "ipython3",
   "version": "3.13.7"
  }
 },
 "nbformat": 4,
 "nbformat_minor": 5
}
