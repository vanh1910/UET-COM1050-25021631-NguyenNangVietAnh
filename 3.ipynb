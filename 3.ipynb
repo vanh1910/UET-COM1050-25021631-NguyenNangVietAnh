{
 "cells": [
  {
   "cell_type": "code",
   "execution_count": null,
   "id": "8c22d138",
   "metadata": {},
   "outputs": [
    {
     "name": "stdout",
     "output_type": "stream",
     "text": [
      "12 6.0\n"
     ]
    }
   ],
   "source": [
    "import math\n",
    "\n",
    "a,b,c = map(float, input().split())\n",
    "if a + b > c and b + c > a and c + a > b:\n",
    "    p = (a + b + c) / 2\n",
    "    area = math.sqrt(p * (p - a) * (p - b) * (p - c))\n",
    "    premitter = a + b + c\n",
    "    print(premitter, area)\n",
    "else:\n",
    "    print(\"no\")"
   ]
  },
  {
   "cell_type": "code",
   "execution_count": 9,
   "id": "88a63ef6",
   "metadata": {},
   "outputs": [
    {
     "name": "stdout",
     "output_type": "stream",
     "text": [
      "invalid datetime\n"
     ]
    }
   ],
   "source": [
    "from datetime import datetime\n",
    "\n",
    "d,m,y = map(int, input().split('/'))\n",
    "try:\n",
    "    date = datetime(y,m,d)\n",
    "    print(\"valid datetime\")\n",
    "except ValueError:\n",
    "    print(\"invalid datetime\")\n"
   ]
  },
  {
   "cell_type": "code",
   "execution_count": null,
   "id": "24431a86",
   "metadata": {},
   "outputs": [],
   "source": [
    "d,m,y = map(int, input().split('/'))\n",
    "\n",
    "valid_day = [31, 29 if (y % 4 == 0 and y % 100 != 0) or (y % 400 == 0) else 28, 31, 30, 31, 30, 31, 31, 30, 31, 30, 31]\n",
    "if 1900 <= y <= 2100 and 1 <= m <= 12 and 1 <= d <= valid_day[m-1]:\n",
    "    print(\"valid datetime\")\n",
    "else:\n",
    "    print(\"invalid datetime\")"
   ]
  }
 ],
 "metadata": {
  "kernelspec": {
   "display_name": ".venv",
   "language": "python",
   "name": "python3"
  },
  "language_info": {
   "codemirror_mode": {
    "name": "ipython",
    "version": 3
   },
   "file_extension": ".py",
   "mimetype": "text/x-python",
   "name": "python",
   "nbconvert_exporter": "python",
   "pygments_lexer": "ipython3",
   "version": "3.13.7"
  }
 },
 "nbformat": 4,
 "nbformat_minor": 5
}
