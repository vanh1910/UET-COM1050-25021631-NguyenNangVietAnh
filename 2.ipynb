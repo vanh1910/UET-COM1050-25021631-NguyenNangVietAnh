{
 "cells": [
  {
   "cell_type": "code",
   "execution_count": null,
   "id": "6ccb2883",
   "metadata": {},
   "outputs": [],
   "source": []
  },
  {
   "cell_type": "markdown",
   "id": "ccb7aa4f",
   "metadata": {},
   "source": []
  },
  {
   "cell_type": "code",
   "execution_count": null,
   "id": "d01179d2",
   "metadata": {},
   "outputs": [],
   "source": [
    "#W2A1\n",
    "print(\"Hello World!\")"
   ]
  },
  {
   "cell_type": "code",
   "execution_count": null,
   "id": "7179b025",
   "metadata": {},
   "outputs": [],
   "source": [
    "#W2A2\n",
    "name = input()\n",
    "print(f\"Hello {name}\")"
   ]
  },
  {
   "cell_type": "code",
   "execution_count": null,
   "id": "ababcbab",
   "metadata": {},
   "outputs": [],
   "source": [
    "#W2A3\n",
    "a, b = map(int, input().split())\n",
    "print(a + b)\n",
    "print(a - b)\n",
    "print(a * b)\n",
    "print(a // b)\n",
    "print(a % b)\n",
    "print(f\"{a / b:.2f}\")"
   ]
  },
  {
   "cell_type": "code",
   "execution_count": null,
   "id": "348eef50",
   "metadata": {},
   "outputs": [],
   "source": [
    "#W2A4\n",
    "scores = list(map(float, input().split()))\n",
    "tb = (scores[0] + scores[1] + scores[2] + (scores[3] + scores[4]) * 2 + scores[5] * 3) / 10\n",
    "print(f\"{tb:.1f}\")"
   ]
  },
  {
   "cell_type": "code",
   "execution_count": null,
   "id": "b6007c5e",
   "metadata": {},
   "outputs": [],
   "source": [
    "#W2A5\n",
    "a, b = map(int, input().split())\n",
    "print(a ** b)"
   ]
  },
  {
   "cell_type": "code",
   "execution_count": null,
   "id": "cc8bb30c",
   "metadata": {},
   "outputs": [],
   "source": [
    "#W2A6\n",
    "c = input()\n",
    "print(ord(c))\n",
    "print(c.upper())"
   ]
  },
  {
   "cell_type": "code",
   "execution_count": null,
   "id": "30372fab",
   "metadata": {},
   "outputs": [],
   "source": [
    "#W2A7\n",
    "A = ((13**2) * 3) + 5\n",
    "B = 13**2 * 3 + 5\n",
    "print(A)\n",
    "print(B)"
   ]
  },
  {
   "cell_type": "code",
   "execution_count": null,
   "id": "74138739",
   "metadata": {},
   "outputs": [],
   "source": [
    "#W2A8\n",
    "C = float(input())\n",
    "F = 9/5 * C + 32\n",
    "print(f\"{F:.2f}\")"
   ]
  },
  {
   "cell_type": "code",
   "execution_count": null,
   "id": "08a4c59d",
   "metadata": {},
   "outputs": [],
   "source": [
    "#W2A9\n",
    "x = float(input())\n",
    "total = (x + 10) * 1.3 * 1.1\n",
    "print(f\"{total:.2f}\")"
   ]
  },
  {
   "cell_type": "code",
   "execution_count": null,
   "id": "2bd5189a",
   "metadata": {},
   "outputs": [],
   "source": [
    "#W2A10\n",
    "names = input().split()\n",
    "print(f\"Hi {names[2]}, {names[1]} and {names[0]}.\")"
   ]
  },
  {
   "cell_type": "code",
   "execution_count": null,
   "id": "42adf355",
   "metadata": {},
   "outputs": [],
   "source": [
    "#W2A11\n",
    "h, m = map(int, input().split())\n",
    "print(h * 3600 + m * 60)"
   ]
  },
  {
   "cell_type": "code",
   "execution_count": null,
   "id": "231343df",
   "metadata": {},
   "outputs": [],
   "source": [
    "#W2A12\n",
    "n = int(input())\n",
    "print(6 * n * n)"
   ]
  },
  {
   "cell_type": "code",
   "execution_count": null,
   "id": "88391b96",
   "metadata": {},
   "outputs": [],
   "source": [
    "#W2A13\n",
    "a, b = map(int, input().split())\n",
    "print((a * b) % 10)"
   ]
  },
  {
   "cell_type": "code",
   "execution_count": null,
   "id": "723e4740",
   "metadata": {},
   "outputs": [],
   "source": [
    "#W2A14\n",
    "a, b = map(int, input().split())\n",
    "a, b = b, a"
   ]
  },
  {
   "cell_type": "code",
   "execution_count": null,
   "id": "270d31dc",
   "metadata": {},
   "outputs": [],
   "source": [
    "#W2A15\n",
    "n = int(input())\n",
    "print(1 + 3 * n * (n - 1))"
   ]
  },
  {
   "cell_type": "code",
   "execution_count": null,
   "id": "9b794caf",
   "metadata": {},
   "outputs": [],
   "source": [
    "#W2A16\n",
    "print(\"Spring\\nSummer\\nAutumn\\nWinter\")"
   ]
  },
  {
   "cell_type": "code",
   "execution_count": null,
   "id": "d60da66f",
   "metadata": {},
   "outputs": [],
   "source": [
    "#W2A17\n",
    "print(\"  *  \")\n",
    "print(\" *** \")\n",
    "print(\"*****\")"
   ]
  },
  {
   "cell_type": "code",
   "execution_count": null,
   "id": "c0c960ad",
   "metadata": {},
   "outputs": [],
   "source": [
    "\n",
    "\n",
    "print(\"##### ##   ##### #####\"),\n",
    "print(\"  #   # #    #     #\"),\n",
    "print(\"  #   #  #   #     #\"),\n",
    "print(\"  #   # #    #     #\"),\n",
    "print(\"  #   ##     #     #\")"
   ]
  },
  {
   "cell_type": "code",
   "execution_count": null,
   "id": "79fdc36e",
   "metadata": {},
   "outputs": [],
   "source": [
    "#W2A19\n",
    "print(\"Monday\\nTuesday\\nWednesday\\nThursday\\nFriday\\nSaturday\\nSunday\")"
   ]
  },
  {
   "cell_type": "code",
   "execution_count": null,
   "id": "c55ac45e",
   "metadata": {},
   "outputs": [],
   "source": [
    "#W2A20\n",
    "print(\"January\\nFebruary\\nMarch\\nApril\\nMay\\nJune\\nJuly\\nAugust\\nSeptember\\nOctober\\nNovember\\nDecember\")"
   ]
  },
  {
   "cell_type": "code",
   "execution_count": null,
   "id": "8fa6e9ce",
   "metadata": {},
   "outputs": [],
   "source": [
    "#W2A21\n",
    "for _ in range(10):\n",
    "    print(\"Hello, world\")"
   ]
  },
  {
   "cell_type": "code",
   "execution_count": null,
   "id": "1feead0b",
   "metadata": {},
   "outputs": [],
   "source": []
  }
 ],
 "metadata": {
  "language_info": {
   "name": "python"
  }
 },
 "nbformat": 4,
 "nbformat_minor": 5
}
